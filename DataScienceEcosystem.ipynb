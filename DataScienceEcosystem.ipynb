{
 "cells": [
  {
   "cell_type": "markdown",
   "id": "5cd2851d-ffe0-4b2b-afa8-0a58acab6836",
   "metadata": {},
   "source": [
    "# Data Science Tools and Ecosystem"
   ]
  },
  {
   "cell_type": "markdown",
   "id": "df9760d6-2f6f-4a7c-9bce-343afa2e23b9",
   "metadata": {},
   "source": [
    "In this notebook, Data Science Tools and Ecosystem are summarized."
   ]
  },
  {
   "cell_type": "markdown",
   "id": "41134033-7495-4c7e-b1ad-d396c57170aa",
   "metadata": {},
   "source": [
    "Some of the popular languages that Data Scientists use are:\n",
    "1. Python\n",
    "2. R\n",
    "3. Julia\n",
    "4. SQL\n",
    "5. Scala\n",
    "6. MATLAB\n",
    "7. Java\n"
   ]
  },
  {
   "cell_type": "markdown",
   "id": "5eab7a9a-56db-4553-ae04-a5445ad6d6e9",
   "metadata": {},
   "source": [
    "Some of the commonly used libraries used by Data Scientists include:\n",
    "1. Pandas\n",
    "2. NumPy\n",
    "3. Matplotlib\n",
    "4. Scikit-learn\n",
    "5. TensorFlow\n",
    "6. PyTorch\n",
    "7. Seaborn\n"
   ]
  },
  {
   "cell_type": "markdown",
   "id": "36bccfab-f49b-450e-9e48-dbee1540c3be",
   "metadata": {},
   "source": [
    "| Data Science Tools |\n",
    "|--------------------|\n",
    "| Jupyter Notebook   |\n",
    "| RStudio            |\n",
    "| VSCode             |\n"
   ]
  },
  {
   "cell_type": "markdown",
   "id": "63f3d484-80a7-4d86-bee5-f6e47e2e9e25",
   "metadata": {},
   "source": [
    "### Below are a few examples of evaluating arithmetic expressions in Python"
   ]
  },
  {
   "cell_type": "code",
   "execution_count": 5,
   "id": "a90ae8ac-61e9-40d9-9460-336ee3634769",
   "metadata": {},
   "outputs": [
    {
     "data": {
      "text/plain": [
       "17"
      ]
     },
     "execution_count": 5,
     "metadata": {},
     "output_type": "execute_result"
    }
   ],
   "source": [
    "# This is a simple arithmetic expression to multiply then add integers.\n",
    "(3*4)+5"
   ]
  },
  {
   "cell_type": "code",
   "execution_count": 6,
   "id": "77bff578-4336-4991-9f55-9e4d324727f1",
   "metadata": {},
   "outputs": [
    {
     "data": {
      "text/plain": [
       "3.3333333333333335"
      ]
     },
     "execution_count": 6,
     "metadata": {},
     "output_type": "execute_result"
    }
   ],
   "source": [
    "# This will convert 200 minutes to hours by dividing by 60.\n",
    "200 / 60"
   ]
  },
  {
   "cell_type": "markdown",
   "id": "07d71c73-4c3f-4309-acf3-62e28a5e599a",
   "metadata": {},
   "source": [
    "**Objectives:**\r\n",
    "- List popular languages for Data Science.\r\n",
    "- Introduce commonly used libraries in Data Science.\r\n",
    "- Showcase tools for Data Science development.\r\n",
    "- Provide examples of arithmetic expressions in Python.\r\n",
    "- Share key objectives covered in the notebook.\r\n"
   ]
  },
  {
   "cell_type": "markdown",
   "id": "4fffe5c0-a89a-4dad-99e7-d455b6ff8619",
   "metadata": {},
   "source": [
    "## Author\r",
    "Karunya S\r\n"
   ]
  },
  {
   "cell_type": "code",
   "execution_count": null,
   "id": "6cb9999e-9236-4176-8b10-bcfd5a19a46c",
   "metadata": {},
   "outputs": [],
   "source": []
  }
 ],
 "metadata": {
  "kernelspec": {
   "display_name": "Python 3 (ipykernel)",
   "language": "python",
   "name": "python3"
  },
  "language_info": {
   "codemirror_mode": {
    "name": "ipython",
    "version": 3
   },
   "file_extension": ".py",
   "mimetype": "text/x-python",
   "name": "python",
   "nbconvert_exporter": "python",
   "pygments_lexer": "ipython3",
   "version": "3.12.1"
  }
 },
 "nbformat": 4,
 "nbformat_minor": 5
}
